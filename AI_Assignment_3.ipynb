{
  "nbformat": 4,
  "nbformat_minor": 0,
  "metadata": {
    "colab": {
      "provenance": [],
      "authorship_tag": "ABX9TyO+q/CQ+GiuoA7SAy7e/rHn",
      "include_colab_link": true
    },
    "kernelspec": {
      "name": "python3",
      "display_name": "Python 3"
    },
    "language_info": {
      "name": "python"
    }
  },
  "cells": [
    {
      "cell_type": "markdown",
      "metadata": {
        "id": "view-in-github",
        "colab_type": "text"
      },
      "source": [
        "<a href=\"https://colab.research.google.com/github/Ccode104/Artificial-Intelligence/blob/main/AI_Assignment_3.ipynb\" target=\"_parent\"><img src=\"https://colab.research.google.com/assets/colab-badge.svg\" alt=\"Open In Colab\"/></a>"
      ]
    },
    {
      "cell_type": "code",
      "execution_count": 1,
      "metadata": {
        "id": "5LJSjjM3b3BQ"
      },
      "outputs": [],
      "source": [
        "import random\n",
        "import numpy as np"
      ]
    },
    {
      "cell_type": "code",
      "source": [
        "# Generate random distance matrix for a given number of cities\n",
        "def generate_distance_matrix(n_cities):\n",
        "    matrix = np.random.randint(10, 100, size=(n_cities, n_cities))\n",
        "    np.fill_diagonal(matrix, 0)\n",
        "    return matrix"
      ],
      "metadata": {
        "id": "jRogYVdgcQT6"
      },
      "execution_count": 2,
      "outputs": []
    },
    {
      "cell_type": "code",
      "source": [
        "# Calculate the total distance for a given route\n",
        "def route_distance(route, distance_matrix):\n",
        "    return sum(distance_matrix[route[i], route[i + 1]] for i in range(len(route) - 1)) + distance_matrix[route[-1], route[0]]"
      ],
      "metadata": {
        "id": "Ahc4b_XZcTcs"
      },
      "execution_count": 3,
      "outputs": []
    },
    {
      "cell_type": "code",
      "source": [
        "# Create an initial population\n",
        "def initialize_population(pop_size, n_cities):\n",
        "    population = [random.sample(range(n_cities), n_cities) for _ in range(pop_size)]\n",
        "    return population"
      ],
      "metadata": {
        "id": "GbPkBBXccV0j"
      },
      "execution_count": 4,
      "outputs": []
    },
    {
      "cell_type": "code",
      "source": [
        "\n",
        "# Tournament selection\n",
        "def selection(population, fitness, k=3):\n",
        "    selected = random.sample(list(zip(population, fitness)), k)\n",
        "    selected.sort(key=lambda x: x[1])\n",
        "    return selected[0][0]"
      ],
      "metadata": {
        "id": "NLbis9g8cYEs"
      },
      "execution_count": 5,
      "outputs": []
    },
    {
      "cell_type": "code",
      "source": [
        "# Order crossover (OX)\n",
        "def crossover(parent1, parent2):\n",
        "    start, end = sorted(random.sample(range(len(parent1)), 2))\n",
        "    child = [None] * len(parent1)\n",
        "    child[start:end] = parent1[start:end]\n",
        "    fill_values = [item for item in parent2 if item not in child]\n",
        "    idx = 0\n",
        "    for i in range(len(child)):\n",
        "        if child[i] is None:\n",
        "            child[i] = fill_values[idx]\n",
        "            idx += 1\n",
        "    return child"
      ],
      "metadata": {
        "id": "yTLKOkYIcaJl"
      },
      "execution_count": 6,
      "outputs": []
    },
    {
      "cell_type": "code",
      "source": [
        "# Swap mutation\n",
        "def mutate(route, mutation_rate=0.01):\n",
        "    for i in range(len(route)):\n",
        "        if random.random() < mutation_rate:\n",
        "            j = random.randint(0, len(route) - 1)\n",
        "            route[i], route[j] = route[j], route[i]\n",
        "    return route"
      ],
      "metadata": {
        "id": "IEe4COtQccLa"
      },
      "execution_count": 7,
      "outputs": []
    },
    {
      "cell_type": "code",
      "source": [
        "# Main Genetic Algorithm\n",
        "def genetic_algorithm_tsp(n_cities=50, pop_size=200, generations=500, mutation_rate=0.02):\n",
        "    distance_matrix = generate_distance_matrix(n_cities)\n",
        "    population = initialize_population(pop_size, n_cities)\n",
        "\n",
        "    for generation in range(generations):\n",
        "        fitness = [route_distance(ind, distance_matrix) for ind in population]\n",
        "        new_population = []\n",
        "\n",
        "        for _ in range(pop_size // 2):\n",
        "            parent1 = selection(population, fitness)\n",
        "            parent2 = selection(population, fitness)\n",
        "            child1, child2 = crossover(parent1, parent2), crossover(parent2, parent1)\n",
        "            new_population.extend([mutate(child1, mutation_rate), mutate(child2, mutation_rate)])\n",
        "\n",
        "        population = new_population\n",
        "\n",
        "        if generation % 50 == 0:\n",
        "            print(f\"Generation {generation} | Best distance: {min(fitness)}\")\n",
        "\n",
        "    best_distance = min(fitness)\n",
        "    best_route = population[fitness.index(best_distance)]\n",
        "    print(\"Optimal route found:\", best_route)\n",
        "    print(\"Optimal distance:\", best_distance)\n",
        "    return best_route, best_distance"
      ],
      "metadata": {
        "id": "6D2ZXxYAcfun"
      },
      "execution_count": 11,
      "outputs": []
    },
    {
      "cell_type": "code",
      "source": [
        "# Example run on 60 nodes\n",
        "genetic_algorithm_tsp(n_cities=60)"
      ],
      "metadata": {
        "colab": {
          "base_uri": "https://localhost:8080/"
        },
        "id": "9ITvchrTcHSA",
        "outputId": "7ad01acb-87d1-44a5-f575-93efe051fe0a"
      },
      "execution_count": 12,
      "outputs": [
        {
          "output_type": "stream",
          "name": "stdout",
          "text": [
            "Generation 0 | Best distance: 2656\n",
            "Generation 50 | Best distance: 2233\n",
            "Generation 100 | Best distance: 2330\n",
            "Generation 150 | Best distance: 2394\n",
            "Generation 200 | Best distance: 2338\n",
            "Generation 250 | Best distance: 2345\n",
            "Generation 300 | Best distance: 2212\n",
            "Generation 350 | Best distance: 2208\n",
            "Generation 400 | Best distance: 2312\n",
            "Generation 450 | Best distance: 2271\n",
            "Optimal route found: [20, 4, 6, 52, 3, 48, 37, 58, 14, 29, 5, 9, 55, 47, 59, 23, 7, 53, 38, 28, 22, 30, 46, 10, 1, 51, 43, 11, 40, 25, 57, 41, 27, 32, 15, 19, 0, 17, 12, 16, 13, 35, 26, 36, 54, 50, 56, 31, 2, 18, 34, 42, 44, 33, 49, 8, 39, 21, 24, 45]\n",
            "Optimal distance: 2337\n"
          ]
        },
        {
          "output_type": "execute_result",
          "data": {
            "text/plain": [
              "([20,\n",
              "  4,\n",
              "  6,\n",
              "  52,\n",
              "  3,\n",
              "  48,\n",
              "  37,\n",
              "  58,\n",
              "  14,\n",
              "  29,\n",
              "  5,\n",
              "  9,\n",
              "  55,\n",
              "  47,\n",
              "  59,\n",
              "  23,\n",
              "  7,\n",
              "  53,\n",
              "  38,\n",
              "  28,\n",
              "  22,\n",
              "  30,\n",
              "  46,\n",
              "  10,\n",
              "  1,\n",
              "  51,\n",
              "  43,\n",
              "  11,\n",
              "  40,\n",
              "  25,\n",
              "  57,\n",
              "  41,\n",
              "  27,\n",
              "  32,\n",
              "  15,\n",
              "  19,\n",
              "  0,\n",
              "  17,\n",
              "  12,\n",
              "  16,\n",
              "  13,\n",
              "  35,\n",
              "  26,\n",
              "  36,\n",
              "  54,\n",
              "  50,\n",
              "  56,\n",
              "  31,\n",
              "  2,\n",
              "  18,\n",
              "  34,\n",
              "  42,\n",
              "  44,\n",
              "  33,\n",
              "  49,\n",
              "  8,\n",
              "  39,\n",
              "  21,\n",
              "  24,\n",
              "  45],\n",
              " np.int64(2337))"
            ]
          },
          "metadata": {},
          "execution_count": 12
        }
      ]
    }
  ]
}