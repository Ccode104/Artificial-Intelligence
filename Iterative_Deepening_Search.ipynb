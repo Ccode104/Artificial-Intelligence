{
  "nbformat": 4,
  "nbformat_minor": 0,
  "metadata": {
    "colab": {
      "provenance": [],
      "toc_visible": true,
      "authorship_tag": "ABX9TyPriWk9F84b5Mb2AQ+p3xm5",
      "include_colab_link": true
    },
    "kernelspec": {
      "name": "python3",
      "display_name": "Python 3"
    },
    "language_info": {
      "name": "python"
    }
  },
  "cells": [
    {
      "cell_type": "markdown",
      "metadata": {
        "id": "view-in-github",
        "colab_type": "text"
      },
      "source": [
        "<a href=\"https://colab.research.google.com/github/Ccode104/Artificial-Intelligence/blob/main/Iterative_Deepening_Search.ipynb\" target=\"_parent\"><img src=\"https://colab.research.google.com/assets/colab-badge.svg\" alt=\"Open In Colab\"/></a>"
      ]
    },
    {
      "cell_type": "markdown",
      "source": [
        "# 8-Tile Puzzel problem\n",
        "Credits : Abhishek Chandurkar (BT22CSE104)"
      ],
      "metadata": {
        "id": "2lVtVfflhAfI"
      }
    },
    {
      "cell_type": "markdown",
      "source": [
        "## Helper functions"
      ],
      "metadata": {
        "id": "qxjA3S28hNWk"
      }
    },
    {
      "cell_type": "code",
      "source": [
        "import random"
      ],
      "metadata": {
        "id": "r-RItIRpRP17"
      },
      "execution_count": null,
      "outputs": []
    },
    {
      "cell_type": "code",
      "source": [
        "# Goal state\n",
        "GOAL = (1, 2, 3,\n",
        "        4, 5, 6,\n",
        "        7, 8, 0)  # 0 = blank\n",
        "\n",
        "# Moves: (dx, dy, move name)\n",
        "# Here , the x axis is pointing down and y axis is pointing right with origin at first element\n",
        "\n",
        "MOVES = {\n",
        "    \"Up\":    (-1, 0),\n",
        "    \"Down\":  (1, 0),\n",
        "    \"Left\":  (0, -1),\n",
        "    \"Right\": (0, 1)\n",
        "}"
      ],
      "metadata": {
        "id": "oJe3TCyqRYeN"
      },
      "execution_count": null,
      "outputs": []
    },
    {
      "cell_type": "code",
      "source": [
        "# The tile problem can be checked for existence of a solution by parity check of number of inversions\n",
        "# If even number of parameters -> solution exists\n",
        "# else , no solution\n",
        "\n",
        "def is_solvable(puzzle):\n",
        "    \"\"\"Check solvability using inversion count parity.\"\"\"\n",
        "    arr = [x for x in puzzle if x != 0]\n",
        "    inversions = 0\n",
        "    for i in range(len(arr)):\n",
        "        for j in range(i + 1, len(arr)):\n",
        "            if arr[i] > arr[j]:\n",
        "                inversions += 1\n",
        "    return inversions % 2 == 0"
      ],
      "metadata": {
        "id": "GDu47RQWUzBZ"
      },
      "execution_count": null,
      "outputs": []
    },
    {
      "cell_type": "code",
      "source": [
        "def generate_random_puzzle():\n",
        "    \"\"\"Generate a random solvable puzzle state.\"\"\"\n",
        "    while True:\n",
        "        puzzle = list(range(9))\n",
        "        random.shuffle(puzzle)\n",
        "\n",
        "        # Check if solvable\n",
        "        if is_solvable(puzzle):\n",
        "            return tuple(puzzle)\n",
        "        # if not solvable, take another puzzle"
      ],
      "metadata": {
        "id": "AISK3LDIVWct"
      },
      "execution_count": null,
      "outputs": []
    },
    {
      "cell_type": "code",
      "source": [
        "def get_blank_pos(state):\n",
        "    \"\"\"Return (row, col) of blank tile.\"\"\"\n",
        "    idx = state.index(0)\n",
        "    return divmod(idx, 3) # same as (idx//3,idx%3)"
      ],
      "metadata": {
        "id": "ZIhmVgIrVaGE"
      },
      "execution_count": null,
      "outputs": []
    },
    {
      "cell_type": "code",
      "source": [
        "def get_neighbors(state):\n",
        "    \"\"\"Generate neighbors of current state with move names.\"\"\"\n",
        "    neighbors = []\n",
        "\n",
        "    # Get the position of the blank tile\n",
        "    row, col = get_blank_pos(state)\n",
        "\n",
        "    # We expand the current state to get the children states (or swap the tile with each neighbour)\n",
        "    for move, (dr, dc) in MOVES.items():\n",
        "        # New position of the blank tile after the swap\n",
        "        new_r, new_c = row + dr, col + dc\n",
        "\n",
        "        # Check if the move is valid (in bounds)\n",
        "        if 0 <= new_r < 3 and 0 <= new_c < 3:\n",
        "\n",
        "            # Calculate the index of the blank tile new position (in child state)\n",
        "            new_idx = new_r * 3 + new_c\n",
        "\n",
        "            # Calculate the index of blank tile psoition before swap (in parent state)\n",
        "            blank_idx = row * 3 + col\n",
        "\n",
        "            # Convert the parent state into list (to make it mutable)\n",
        "            new_state = list(state)\n",
        "\n",
        "            # Swap blank with target tile to get the new state(or child)\n",
        "            new_state[blank_idx], new_state[new_idx] = new_state[new_idx], new_state[blank_idx]\n",
        "\n",
        "            # We have got a child state\n",
        "            # Store it in the open list temporarily(it might be a node that was already visited, so may not be considered in open list)\n",
        "            neighbors.append((tuple(new_state), move))\n",
        "\n",
        "    return neighbors"
      ],
      "metadata": {
        "id": "s9DTox62Vjwj"
      },
      "execution_count": null,
      "outputs": []
    },
    {
      "cell_type": "markdown",
      "source": [
        "## Iterative Deepening Search"
      ],
      "metadata": {
        "id": "--q3m2vdhSie"
      }
    },
    {
      "cell_type": "code",
      "source": [
        "def depth_limited_search(state, limit, path, visited, expanded):\n",
        "    \"\"\"Recursive depth-limited search.\"\"\"\n",
        "    if state == GOAL:\n",
        "        return path, expanded\n",
        "\n",
        "    if limit == 0:\n",
        "        return None, expanded\n",
        "\n",
        "    # Get the possible child states\n",
        "    possible_child_states = get_neighbors(state)\n",
        "\n",
        "    # Expand the current state\n",
        "    for neighbor, move in possible_child_states:\n",
        "        # Check if it was previously visited\n",
        "        if neighbor not in visited:\n",
        "            # Mark the child node as visited\n",
        "            visited.add(neighbor)\n",
        "\n",
        "            # Keep track of the number of expanded nodes(or states)\n",
        "            expanded[0] += 1\n",
        "\n",
        "            # Expand the child node (we reduce the limit by 1, also keep track of the \"path\" and visited nodes)\n",
        "            result, expanded = depth_limited_search(neighbor, limit - 1, path + [move], visited, expanded)\n",
        "\n",
        "            # If we got the goal state, no need to do any more search\n",
        "            if result is not None:\n",
        "                return result, expanded\n",
        "            # else, we remove the nodes that we marked as visited (visualize it as moving backwards)\n",
        "            visited.remove(neighbor)\n",
        "\n",
        "    # We could not reach the goal state with given \"limit\"\n",
        "    return None, expanded\n"
      ],
      "metadata": {
        "id": "-7ZmY_5AX6a0"
      },
      "execution_count": null,
      "outputs": []
    },
    {
      "cell_type": "code",
      "source": [
        "def iterative_deepening_search(initial_state):\n",
        "    \"\"\"IDS main loop.\"\"\"\n",
        "    depth = 0\n",
        "    expanded = [0]  # keep as list so it's mutable and is passed by reference\n",
        "\n",
        "    # We try for each \"limit\" till we get the goal state\n",
        "    while True:\n",
        "        visited = {initial_state} # the root node (the given problem state)\n",
        "        result, expanded = depth_limited_search(initial_state, depth, [], visited, expanded)\n",
        "\n",
        "        # We found the goal state!\n",
        "        if result is not None:\n",
        "            return result, expanded[0]\n",
        "\n",
        "        # Could not find the goal state for given limit on the depth, so try limit + 1\n",
        "        depth += 1\n",
        "    # Here, we do not have a return statement since we know that the given problem is solvable for sure\n",
        "    # So the return statement in the loop will be executed for sure!"
      ],
      "metadata": {
        "id": "aIEdEAn2dGaE"
      },
      "execution_count": null,
      "outputs": []
    },
    {
      "cell_type": "markdown",
      "source": [
        "## Bi-directional BFS Approach"
      ],
      "metadata": {
        "id": "KaglK_pahWwX"
      }
    },
    {
      "cell_type": "code",
      "source": [
        "from collections import deque\n",
        "\n",
        "def bidirectional_search(start):\n",
        "    if start == GOAL:\n",
        "        return [], 0\n",
        "\n",
        "    # Two queues (open lists)\n",
        "    q_start = deque([start])\n",
        "    q_goal = deque([GOAL])\n",
        "\n",
        "    # Parent maps (Or the BFS trees)\n",
        "    parent_start = {start: (None, None)}  # state -> (parent, move)\n",
        "    parent_goal = {GOAL: (None, None)}\n",
        "\n",
        "    expanded = 0\n",
        "\n",
        "    while q_start and q_goal:\n",
        "        # Expand from start side\n",
        "        current_start = q_start.popleft()\n",
        "        expanded += 1\n",
        "        for neighbor, move in get_neighbors(current_start):\n",
        "            # If not visited\n",
        "            if neighbor not in parent_start:\n",
        "                # Add the neighbour\n",
        "                parent_start[neighbor] = (current_start, move)\n",
        "                q_start.append(neighbor)\n",
        "                # If the BFS trees meet\n",
        "                if neighbor in parent_goal:\n",
        "                    return reconstruct_path(neighbor, parent_start, parent_goal), expanded\n",
        "\n",
        "        # Expand from goal side (same as the start side)\n",
        "        current_goal = q_goal.popleft()\n",
        "        expanded += 1\n",
        "        for neighbor, move in get_neighbors(current_goal):\n",
        "            if neighbor not in parent_goal:\n",
        "                parent_goal[neighbor] = (current_goal, move)\n",
        "                q_goal.append(neighbor)\n",
        "                if neighbor in parent_start:\n",
        "                    return reconstruct_path(neighbor, parent_start, parent_goal), expanded\n",
        "\n",
        "    return None, expanded\n",
        "\n",
        "\n",
        "def reconstruct_path(meeting_state, parent_start, parent_goal):\n",
        "    # Path from start -> meeting\n",
        "    path_start = []\n",
        "    state = meeting_state\n",
        "\n",
        "    # We move backwards from the meeting state to the start state\n",
        "    while parent_start[state][0] is not None:\n",
        "        parent, move = parent_start[state]\n",
        "        path_start.append(move)\n",
        "        state = parent\n",
        "\n",
        "    # Reverse to get the path from start to the meeting state\n",
        "    path_start.reverse()\n",
        "\n",
        "    # Path from meeting -> goal\n",
        "    path_goal = []\n",
        "    state = meeting_state\n",
        "    while parent_goal[state][0] is not None:\n",
        "        parent, move = parent_goal[state]\n",
        "        # Inverse the move (because it's from goal backwards)\n",
        "        inverse_move = {\"Up\": \"Down\", \"Down\": \"Up\", \"Left\": \"Right\", \"Right\": \"Left\"}[move]\n",
        "        path_goal.append(inverse_move)\n",
        "        state = parent\n",
        "\n",
        "    return path_start + path_goal\n"
      ],
      "metadata": {
        "id": "S6I1wxjeLiMB"
      },
      "execution_count": null,
      "outputs": []
    },
    {
      "cell_type": "markdown",
      "source": [
        "## Test the code"
      ],
      "metadata": {
        "id": "QEIvhc3_hcaf"
      }
    },
    {
      "cell_type": "code",
      "execution_count": null,
      "metadata": {
        "colab": {
          "base_uri": "https://localhost:8080/"
        },
        "id": "JD3EBsjaLPMz",
        "outputId": "7b56c73c-9061-43cc-ac5e-beabd7727576"
      },
      "outputs": [
        {
          "output_type": "stream",
          "name": "stdout",
          "text": [
            "Initial State:\n",
            "(0, 7, 6)\n",
            "(2, 5, 8)\n",
            "(1, 3, 4)\n",
            "\n",
            "Using IDS\n",
            "\n",
            "Sequence of moves: ['Down', 'Down', 'Right', 'Right', 'Up', 'Left', 'Up', 'Left', 'Down', 'Down', 'Right', 'Up', 'Left', 'Up', 'Right', 'Down', 'Right', 'Up', 'Left', 'Left', 'Down', 'Down', 'Right', 'Right']\n",
            "Number of moves: 24\n",
            "Nodes expanded: 2742206\n",
            "\n",
            "Using Bidirectional approach\n",
            "\n",
            "Sequence of moves: ['Down', 'Right', 'Down', 'Left', 'Up', 'Up', 'Right', 'Down', 'Down', 'Right', 'Up', 'Up', 'Left', 'Down', 'Left', 'Up', 'Right', 'Down', 'Down', 'Left', 'Up', 'Right', 'Down', 'Right']\n",
            "Number of moves: 24\n",
            "Nodes expanded: 1962\n"
          ]
        }
      ],
      "source": [
        "if __name__ == \"__main__\":\n",
        "\n",
        "    # Generate the puzzle\n",
        "    initial_state = generate_random_puzzle()\n",
        "    print(\"Initial State:\")\n",
        "    for i in range(0, 9, 3):\n",
        "        print(initial_state[i:i+3])\n",
        "\n",
        "    moves, expanded_nodes = iterative_deepening_search(initial_state)\n",
        "\n",
        "    print (\"\\nUsing IDS\\n\")\n",
        "    print(\"Sequence of moves:\", moves)\n",
        "    print(\"Number of moves:\", len(moves))\n",
        "    print(\"Nodes expanded:\", expanded_nodes)\n",
        "\n",
        "    moves, expanded_nodes = bidirectional_search(initial_state)\n",
        "\n",
        "    print(\"\\nUsing Bidirectional approach\\n\")\n",
        "    print(\"Sequence of moves:\", moves)\n",
        "    print(\"Number of moves:\", len(moves))\n",
        "    print(\"Nodes expanded:\", expanded_nodes)\n"
      ]
    },
    {
      "cell_type": "code",
      "source": [],
      "metadata": {
        "id": "WUyOgYg1fL8Y"
      },
      "execution_count": null,
      "outputs": []
    }
  ]
}